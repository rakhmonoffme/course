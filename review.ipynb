{
 "cells": [
  {
   "cell_type": "markdown",
   "id": "52390240",
   "metadata": {},
   "source": [
    "# AI - 1st month\n"
   ]
  },
  {
   "cell_type": "code",
   "execution_count": null,
   "id": "d48f287e",
   "metadata": {},
   "outputs": [],
   "source": [
    "import pandas as pd\n",
    "import numpy as np\n",
    "import matplotlib.pyplot as plt\n",
    "import seaborn as sns\n",
    "\n",
    "import warnings\n",
    "warnings.filterwarnings(\"ignore\")"
   ]
  },
  {
   "cell_type": "markdown",
   "id": "f4b4c532",
   "metadata": {},
   "source": [
    "# Data Exploration"
   ]
  },
  {
   "cell_type": "code",
   "execution_count": null,
   "id": "f0d9a465",
   "metadata": {},
   "outputs": [],
   "source": [
    "df = pd.read_csv('airline_passenger_satisfaction.csv')\n",
    "df.info() \n",
    "df.head()"
   ]
  },
  {
   "cell_type": "code",
   "execution_count": null,
   "id": "75b5752c",
   "metadata": {},
   "outputs": [],
   "source": [
    "df1 = pd.read_csv('IMDB_Movies_Dataset.csv')\n",
    "df1.info()\n",
    "df1.head()"
   ]
  },
  {
   "cell_type": "markdown",
   "id": "f85a58f4",
   "metadata": {},
   "source": [
    "# Data Preprocessing - missing values"
   ]
  },
  {
   "cell_type": "code",
   "execution_count": null,
   "id": "d4ffe0c3",
   "metadata": {},
   "outputs": [],
   "source": [
    "df.isnull().any()\n",
    "df1.isnull().sum() # check for missing values\n"
   ]
  },
  {
   "cell_type": "code",
   "execution_count": null,
   "metadata": {},
   "outputs": [],
   "source": [
    "# drop the columns that are not needed\n",
    "df.drop(['Unnamed: 0'], axis = 1, inplace = True)\n",
    "df1.drop(['Unnamed: 0'], axis = 1, inplace = True)\n",
    "df.drop(['id'], axis = 1, inplace = True)"
   ]
  },
  {
   "cell_type": "code",
   "execution_count": null,
   "id": "18b51c9f",
   "metadata": {},
   "outputs": [],
   "source": [
    "df.dropna(inplace = True) # drop rows with missing values\n",
    "df.dropna(subset=['Gender'], inplace=True) # drop rows with missing values in 'Gender' column"
   ]
  },
  {
   "cell_type": "code",
   "execution_count": null,
   "id": "fc006a80",
   "metadata": {},
   "outputs": [],
   "source": [
    "# fill missing values in 'Age' column with 25\n",
    "df['Age'].fillna(25, inplace=True)\n",
    "\n",
    "\n",
    "# fill missing values in 'Gender' column with 'Male'\n",
    "df['Gender'].fillna('Male', inplace=True)"
   ]
  },
  {
   "cell_type": "code",
   "execution_count": null,
   "id": "f71c67b6",
   "metadata": {},
   "outputs": [],
   "source": [
    "# fillinf missing values with the mean of the column\n",
    "df['Flight Distance'].fillna(df['Flight Distance'].mean(), inplace=True)\n",
    "\n",
    "\n",
    "# fill missing values with the mode of the column and the mean of the column using a loop\n",
    "\n",
    "for col in df.columns:\n",
    "    if df[col].isnull().any():\n",
    "        if df[col].dtype == 'object':\n",
    "            df[col].fillna(df[col].mode()[0], inplace=True)\n",
    "        else:\n",
    "            df[col].fillna(df[col].mean(), inplace = True)"
   ]
  },
  {
   "cell_type": "code",
   "execution_count": null,
   "id": "d205ec5a",
   "metadata": {},
   "outputs": [],
   "source": [
    "for col in df1.columns:\n",
    "    if df1[col].isnull().any():\n",
    "        if df1[col].dtype == 'object':\n",
    "            df1[col].fillna(df1[col].mode()[0], inplace=True)\n",
    "        else:\n",
    "            df1[col].fillna(df1[col].mean(), inplace = True)\n"
   ]
  },
  {
   "cell_type": "markdown",
   "id": "95cd9544",
   "metadata": {},
   "source": [
    "# feature transformation - removing speacial characters"
   ]
  },
  {
   "cell_type": "code",
   "execution_count": null,
   "id": "3a35ae8f",
   "metadata": {},
   "outputs": [],
   "source": [
    "df1['Metascore'].replace('N/A', np.nan, inplace = True) # replace 'N/A' with NaN using inplace parameter\n",
    "df1['Metascore'] = df1['Metascore'].replace('N/A', np.nan) # replace 'N/A' with NaN when not using the inplace parameter "
   ]
  },
  {
   "cell_type": "code",
   "execution_count": null,
   "id": "6939f529",
   "metadata": {},
   "outputs": [],
   "source": [
    "df1['Worldwide Gross'] = df1['Worldwide Gross'].replace({'\\$': '', ',': ''}, regex=True) # remove $ and , from the Gross column\n",
    "\n",
    "df1['Budget'] = df1['Budget'].replace(r'[^\\d.]', '', regex=True) # remove all non-numeric characters from the Budget column\n",
    "\n",
    "df1['Worldwide Gross'] = df1['Worldwide Gross'].replace(r'\\s*\\([^)]*\\)', '', regex=True) # remove all text in parentheses from the Worldwide Gross column\n",
    "\n",
    "df1['Languages'] = df1['Languages'].str.split(',').str[0] # split the Language column by comma and take the first element\n",
    "df1['Languages'] = df1['Languages'].str.strip() # remove leading and trailing spaces"
   ]
  },
  {
   "cell_type": "code",
   "execution_count": null,
   "id": "4710514e",
   "metadata": {},
   "outputs": [],
   "source": [
    "# removing all non-numeric characters from the Budget column\n",
    "\n",
    "df1['Budget'] = df1['Budget'].replace(r'[^\\d.]', '', regex=True)\n",
    "df1['Budget'] "
   ]
  },
  {
   "cell_type": "code",
   "execution_count": null,
   "id": "00cd4e9a",
   "metadata": {},
   "outputs": [],
   "source": [
    "df['Gender'].unique() # check unique values in the Gender column and it returns an array \n",
    "df['Gender'].value_counts() # count the number of each unique value in the Gender column and it returns a series\n",
    "df['Gender'].nunique() # count the number of unique values in the Gender column and it returns an integer"
   ]
  },
  {
   "cell_type": "markdown",
   "id": "75587465",
   "metadata": {},
   "source": [
    "# mapping the column"
   ]
  },
  {
   "cell_type": "code",
   "execution_count": null,
   "id": "25737a22",
   "metadata": {},
   "outputs": [],
   "source": [
    "df['satisfaction'] = df['satisfaction'].map({\n",
    "    'neutral or dissatisfied': 0, \n",
    "    'satisfied': 1})"
   ]
  },
  {
   "cell_type": "markdown",
   "id": "fecd61c2",
   "metadata": {},
   "source": [
    "# Klib vs autoclean"
   ]
  },
  {
   "cell_type": "code",
   "execution_count": null,
   "id": "eef2f24e",
   "metadata": {},
   "outputs": [],
   "source": [
    "from klib import data_cleaning\n",
    "from datacleaner import autoclean\n",
    "\n",
    "#df = data_cleaning(df) # clean the data using klib\n",
    "#df1 = autoclean(df1) # clean the data using datacleaner"
   ]
  },
  {
   "cell_type": "markdown",
   "id": "560f9690",
   "metadata": {},
   "source": [
    "# feature engineering - creating new features   "
   ]
  },
  {
   "cell_type": "code",
   "execution_count": null,
   "id": "8d6d83dc",
   "metadata": {},
   "outputs": [],
   "source": [
    "# create a new column\n",
    "\n",
    "df['Age Group'] = pd.cut(df['Age'], bins=[0, 18, 30, 40, 50, 60, 70, 80, 90], labels=['0-18', '18-30', '30-40', '40-50', '50-60', '60-70', '70-80', '80-90'])\n",
    "\n",
    "# use lambda function to create a new column\n",
    "df['Age Group'] = df['Age'].apply(lambda x: '0-18' if x <= 18 else ('18-30' if x <= 30 else ('30-40' if x <= 40 else ('40-50' if x <= 50 else ('50-60' if x <= 60 else ('60-70' if x <= 70 else ('70-80' if x <= 80 else '80-90')))))))\n",
    " \n"
   ]
  },
  {
   "cell_type": "code",
   "execution_count": null,
   "id": "a9564121",
   "metadata": {},
   "outputs": [],
   "source": [
    "df.head()"
   ]
  },
  {
   "cell_type": "markdown",
   "id": "2d954310",
   "metadata": {},
   "source": [
    "# Time Based Transformation"
   ]
  },
  {
   "cell_type": "code",
   "execution_count": null,
   "id": "03e4fb24",
   "metadata": {},
   "outputs": [],
   "source": [
    "df_1 = pd.read_csv('IMDB_Movies_Dataset.csv')\n",
    "df_1[['Date', 'Country']] = df_1['Release Date'].str.extract(r'(.+?)\\s*\\((.+)\\)')\n",
    "\n",
    "\n",
    "df_1['Date'] = pd.to_datetime(df_1['Date'], errors='coerce')\n",
    "\n",
    "df_1['Year'] = df_1['Date'].dt.year\n",
    "df_1['Month'] = df_1['Date'].dt.month_name()\n",
    "df_1['Day'] = df_1['Date'].dt.day\n",
    "\n",
    "df_1['Year']"
   ]
  },
  {
   "cell_type": "markdown",
   "id": "1fcd1206",
   "metadata": {},
   "source": [
    "# Data Visualization"
   ]
  },
  {
   "cell_type": "markdown",
   "id": "543991d8",
   "metadata": {},
   "source": [
    "    proportion of categories in the circular bar plot"
   ]
  },
  {
   "cell_type": "code",
   "execution_count": null,
   "id": "127e6a61",
   "metadata": {},
   "outputs": [],
   "source": [
    "cat_cols = df.select_dtypes(include=['object']).columns.tolist() # select categorical columns\n",
    "num_cols = df.select_dtypes(include=['number']).columns.tolist() # select numerical columns\n",
    "plt.figure(figsize = (12,6))\n",
    "colors = sns.color_palette('pastel')[0:5]\n",
    "for i,cols in enumerate(cat_cols):\n",
    "    plt.subplot(2,3,1+i)\n",
    "    df[cols].value_counts().plot(kind='pie',autopct='%0.1f')\n",
    "    plt.title(cols,color='red')\n",
    "    plt.xlabel('')\n",
    "    plt.ylabel('')\n",
    "plt.tight_layout()\n",
    "plt.show()\n",
    "\n",
    "# for col in df.columns:\n",
    "#     if df[col].dtype == 'object':\n",
    "#         plt.title(col)\n",
    "#         plt.pie(df[col].value_counts(), labels=df[col].unique(), autopct='%1.1f%%')\n",
    "#         plt.show()\n",
    "\n"
   ]
  },
  {
   "cell_type": "markdown",
   "id": "3bfd12bb",
   "metadata": {},
   "source": [
    "    Countplot comparing the values of the categorical column"
   ]
  },
  {
   "cell_type": "code",
   "execution_count": null,
   "id": "00d16994",
   "metadata": {},
   "outputs": [],
   "source": [
    "# comparing the number of categories of the column in bar plot\n",
    "\n",
    "plt.figure(figsize = (12,6))\n",
    "colors = sns.color_palette('pastel')[0:5]\n",
    "for i,cols in enumerate(cat_cols):\n",
    "    plt.subplot(2,3,1+i)\n",
    "    sns.countplot(x=cols, data=df)\n",
    "    plt.title(cols,color='blue')\n",
    "    plt.title(cols,color='red')\n",
    "plt.tight_layout()\n",
    "plt.show()\n",
    "\n",
    "# for col in df.columns:\n",
    "#     if df[col].dtype == 'object':\n",
    "#         sns.countplot(x=col, data=df)\n",
    "#         plt.show()"
   ]
  },
  {
   "cell_type": "markdown",
   "id": "a59b0bca",
   "metadata": {},
   "source": [
    "    Number of occurancies in a categorical variable - countplot"
   ]
  },
  {
   "cell_type": "code",
   "execution_count": null,
   "id": "c1298524",
   "metadata": {},
   "outputs": [],
   "source": [
    "# hue = 'satisfaction' to show the satisfaction level in the bar plot\n",
    "\n",
    "\n",
    "sns.countplot(x = 'Class', hue = 'satisfaction', palette = \"YlOrBr\", data = df) # \n",
    "plt.title('Class vs Satisfaction')\n",
    "plt.show()"
   ]
  },
  {
   "cell_type": "markdown",
   "id": "afae93fd",
   "metadata": {},
   "source": [
    "    Distribution of numerical variables in the dataset - histoplot"
   ]
  },
  {
   "cell_type": "code",
   "execution_count": null,
   "id": "514a4cf4",
   "metadata": {},
   "outputs": [],
   "source": [
    "sns.set(style=\"whitegrid\")\n",
    "plt.figure(figsize=(10, 6))\n",
    "sns.histplot(df, x = \"Age Group\", hue = \"Customer Type\", multiple='stack' , palette = \"YlOrBr\", edgecolor = \".3\", linewidth = .5)\n",
    "plt.show()"
   ]
  },
  {
   "cell_type": "markdown",
   "id": "7e4348a1",
   "metadata": {},
   "source": [
    "    Distribution of numerical variables in the dataset histogram - histogram"
   ]
  },
  {
   "cell_type": "code",
   "execution_count": null,
   "id": "7d8e28d9",
   "metadata": {},
   "outputs": [],
   "source": [
    "# Distribution of numerical variables in the dataset histogram\n",
    "sns.set(style=\"whitegrid\")\n",
    "\n",
    "plt.figure(figsize=(10, 6))\n",
    "plt.hist(df['Age'], bins=20, color='blue', alpha=0.7)\n",
    "plt.title('Age Distribution')\n",
    "plt.xlabel('Age')\n",
    "plt.show()\n",
    "\n",
    "\n",
    "# sns.set(style=\"whitegrid\")\n",
    "# plt.figure(figsize = (15,12))\n",
    "# for i, cols in enumerate(num_cols):\n",
    "#     plt.subplot(3,3,1+i)\n",
    "#     sns.histplot(data = df,x = cols,kde = True)\n",
    "# plt.tight_layout()\n",
    "# plt.show()"
   ]
  },
  {
   "cell_type": "markdown",
   "id": "fc95b0df",
   "metadata": {},
   "source": [
    "    Distribution, median, outliers across categories - boxplot"
   ]
  },
  {
   "cell_type": "code",
   "execution_count": null,
   "id": "321f0489",
   "metadata": {},
   "outputs": [],
   "source": [
    "sns.boxplot(x = 'satisfaction', y = 'Age', data = df, palette = \"YlOrBr\")\n",
    "plt.title('Age vs Satisfaction')\n",
    "plt.show()\n"
   ]
  },
  {
   "cell_type": "markdown",
   "id": "2e9ccc5f",
   "metadata": {},
   "source": [
    "    The relationship between two continuous variables - scatter plot"
   ]
  },
  {
   "cell_type": "code",
   "execution_count": null,
   "id": "5d93118f",
   "metadata": {},
   "outputs": [],
   "source": [
    "plt.figure(figsize=(10, 6))\n",
    "plt.scatter(df1['Budget'], df1['Worldwide Gross'], alpha=0.5)\n",
    "plt.title('Budget vs Worldwide Gross')\n",
    "plt.xlabel('Budget')\n",
    "plt.ylabel('Worldwide Gross')\n",
    "plt.show()"
   ]
  },
  {
   "cell_type": "markdown",
   "id": "4fc9f751",
   "metadata": {},
   "source": [
    "    Using plotly\n"
   ]
  },
  {
   "cell_type": "code",
   "execution_count": null,
   "id": "fec48cd8",
   "metadata": {},
   "outputs": [],
   "source": [
    "import plotly.express as px\n",
    "px.histogram(df, x = 'Age', color = 'satisfaction', title = 'Age vs Satisfaction', marginal = 'box', hover_data = df.columns)"
   ]
  },
  {
   "cell_type": "markdown",
   "id": "c003ed5e",
   "metadata": {},
   "source": [
    "    Correlation heatmap"
   ]
  },
  {
   "cell_type": "markdown",
   "id": "323c1778",
   "metadata": {},
   "source": [
    "# Encoding"
   ]
  },
  {
   "cell_type": "code",
   "execution_count": null,
   "id": "e068f226",
   "metadata": {},
   "outputs": [],
   "source": [
    "from sklearn.preprocessing import LabelEncoder, OneHotEncoder, OrdinalEncoder\n",
    "\n",
    "encoder = LabelEncoder()\n",
    "encoder1 = OrdinalEncoder()\n",
    "\n",
    "cat_cols = df.select_dtypes(include=['object']).columns # select categorical columns\n",
    "num_cols = df.select_dtypes(include=['number']).columns # select numerical columns\n",
    "\n",
    "for col in cat_cols:\n",
    "    cardinality = df[col].nunique()\n",
    "    if cardinality <= 4:\n",
    "        # one-hot encoding\n",
    "        dummies = pd.get_dummies(df[col], prefix=col, dtype=int)\n",
    "        # drop the original column and merge the dummy columns\n",
    "        df = pd.concat([df.drop(col, axis=1), dummies], axis=1)\n",
    "    elif 10 > cardinality > 4:\n",
    "        # Apply label encoding\n",
    "        df[col] = encoder.fit_transform(df[col])\n",
    "    elif cardinality > 10:\n",
    "        # Apply ordinal encoding for columns with more than 10 unique values\n",
    "        df[col] = encoder1.fit_transform(df[[col]])"
   ]
  },
  {
   "cell_type": "code",
   "execution_count": null,
   "id": "6dbeba67",
   "metadata": {},
   "outputs": [],
   "source": [
    "\n",
    "cat_cols1 = df1.select_dtypes(include=['object']).columns.tolist() # select categorical columns\n",
    "num_cols1 = df1.select_dtypes(include=['number']).columns.tolist() # select numerical columns\n",
    "\n",
    "for col in cat_cols1:\n",
    "    cardinality1 = df1[col].nunique()\n",
    "    if cardinality1 <= 4:\n",
    "        # one-hot encoding\n",
    "        dummies = pd.get_dummies(df1[col], prefix=col, dtype=int)\n",
    "        # drop the original column and merge the dummy columns\n",
    "        df1 = pd.concat([df1.drop(col, axis=1), dummies], axis=1)\n",
    "    elif 10 > cardinality1 > 4:\n",
    "        # Apply label encoding\n",
    "        df1[col] = encoder.fit_transform(df1[col])\n",
    "   "
   ]
  },
  {
   "cell_type": "markdown",
   "id": "d5311d74",
   "metadata": {},
   "source": [
    "    Correlation heatmap"
   ]
  },
  {
   "cell_type": "code",
   "execution_count": null,
   "id": "ca221ba3",
   "metadata": {},
   "outputs": [],
   "source": [
    "plt.figure(figsize=(12, 8))\n",
    "sns.heatmap(df.corr(), annot=True,  cmap=\"coolwarm\", linewidths=0.2, fmt=\".2f\")\n",
    "plt.title('Correlation Matrix')\n",
    "plt.show()"
   ]
  },
  {
   "cell_type": "markdown",
   "id": "5259b7fd",
   "metadata": {},
   "source": [
    "# Scaling"
   ]
  },
  {
   "cell_type": "code",
   "execution_count": null,
   "id": "81d6d170",
   "metadata": {},
   "outputs": [],
   "source": [
    "from sklearn.preprocessing import StandardScaler, MinMaxScaler, RobustScaler\n",
    "\n",
    "scaler = StandardScaler()\n",
    "scaler1 = MinMaxScaler()\n",
    "scaler2 = RobustScaler()\n",
    "\n",
    "cols = df.columns[df.columns != 'satisfaction'] # select all columns except the target column\n",
    "\n",
    "df[cols] = scaler.fit_transform(df[cols])\n",
    "df1[num_cols1] = scaler2.fit_transform(df1[num_cols1])"
   ]
  },
  {
   "cell_type": "markdown",
   "id": "b0f4f41f",
   "metadata": {},
   "source": [
    "# Mutual Information"
   ]
  },
  {
   "cell_type": "code",
   "execution_count": null,
   "id": "45a8afb8",
   "metadata": {},
   "outputs": [],
   "source": [
    "from sklearn.feature_selection import mutual_info_classif, mutual_info_regression\n",
    "\n",
    "mi_scores = mutual_info_regression(df.drop('satisfaction', axis=1), df['satisfaction'], discrete_features=True)\n",
    "mi_scores = pd.Series(mi_scores, index=df.drop('satisfaction', axis=1).columns)\n",
    "mi_scores.sort_values(ascending=False, inplace=True)\n",
    "mi_scores.plot.bar(figsize=(10, 6))\n",
    "plt.title('Mutual Information Scores')\n",
    "plt.show()"
   ]
  },
  {
   "cell_type": "code",
   "execution_count": null,
   "id": "9f4cfcdf",
   "metadata": {},
   "outputs": [],
   "source": [
    "plt.figure(figsize=(10, 6))\n",
    "sns.barplot(x=mi_scores[:5], y=mi_scores.index[:5])\n",
    "plt.title('Top 5 Features by Mutual Information')\n",
    "plt.show()"
   ]
  },
  {
   "cell_type": "markdown",
   "id": "5c869fae",
   "metadata": {},
   "source": [
    "# Skewness"
   ]
  },
  {
   "cell_type": "code",
   "execution_count": null,
   "id": "11c578e2",
   "metadata": {},
   "outputs": [],
   "source": [
    "skewness = df[num_cols].skew()\n",
    "skewness_df = pd.DataFrame(skewness, index=num_cols, columns=['Skewness'])\n",
    "skewness_df = skewness_df.sort_values(by='Skewness', ascending=False)\n",
    "skewness_df"
   ]
  },
  {
   "cell_type": "markdown",
   "id": "022e7505",
   "metadata": {},
   "source": [
    "    skewness transformation using boxcox"
   ]
  },
  {
   "cell_type": "code",
   "execution_count": null,
   "id": "7323fe6b",
   "metadata": {},
   "outputs": [],
   "source": [
    "from scipy import stats\n",
    "df['Departure Delay in Minutes'], lambda_value = stats.boxcox(df['Departure Delay in Minutes'] + 1) # boxcox transformation\n",
    "\n",
    "# for col in num_cols:\n",
    "#     df[col], lambda_value = stats.boxcox(df[col] + 1)"
   ]
  },
  {
   "cell_type": "code",
   "execution_count": null,
   "id": "f4d5a9b7",
   "metadata": {},
   "outputs": [],
   "source": [
    "# for col in num_cols:\n",
    "#   if 0.5 < skewness[col] < 1 or -1 < skewness[col] < -0.5:\n",
    "#     df[col] = np.power(df[col], 1/2)\n",
    "#   elif -2 < skewness[col] < -1 or 1 < skewness[col] < 2:\n",
    "#     df[col] = np.power(df[col], 3/2)\n",
    "#   elif skewness[col] < -2 or skewness[col] > 2:\n",
    "#     df[col] = 1 / df[col] # or np.log1p(df[col])\n",
    "  \n",
    "# skewness_new = df[num_cols].skew().sort_values(ascending=False)\n",
    "# print(skewness_new)\n"
   ]
  },
  {
   "cell_type": "markdown",
   "id": "79bdc0cb",
   "metadata": {},
   "source": [
    "# Model training and evaluation"
   ]
  },
  {
   "cell_type": "code",
   "execution_count": null,
   "id": "bef1345b",
   "metadata": {},
   "outputs": [],
   "source": [
    "from sklearn.model_selection import train_test_split\n",
    "\n",
    "x = df.drop('satisfaction', axis=1)\n",
    "y = df['satisfaction']\n",
    "x_train, x_test, y_train, y_test = train_test_split(x, y, test_size=0.2, random_state=42)\n",
    "x_test, x_val, y_test, y_val = train_test_split(x_test, y_test, test_size=0.5, random_state=42)"
   ]
  },
  {
   "cell_type": "markdown",
   "id": "f4286439",
   "metadata": {},
   "source": [
    "# Logistic Regression"
   ]
  },
  {
   "cell_type": "code",
   "execution_count": null,
   "id": "ad5fec50",
   "metadata": {},
   "outputs": [],
   "source": [
    "from sklearn.linear_model import LogisticRegression\n",
    "\n",
    "lg = LogisticRegression()\n",
    "\n",
    "lg.fit(x_train, y_train)\n",
    "y_pred = lg.predict(x_test)"
   ]
  },
  {
   "cell_type": "code",
   "execution_count": null,
   "id": "1cd12c56",
   "metadata": {},
   "outputs": [],
   "source": [
    "accuracy_score_lg = lg.score(x_test, y_test)\n",
    "print(\"Accuracy Score: \", accuracy_score_lg)\n",
    "\n",
    "\n",
    "from sklearn.metrics import classification_report, confusion_matrix, accuracy_score\n",
    "\n",
    "cm_lg = classification_report(y_test, y_pred, output_dict=True)\n",
    "print(classification_report(y_test, y_pred))\n",
    "cm = confusion_matrix(y_test, y_pred)\n",
    "plt.figure(figsize=(10, 6))\n",
    "sns.heatmap(cm, annot=True, fmt='d', cmap='Blues')\n",
    "plt.title('Confusion Matrix')\n",
    "plt.xlabel('Predicted')\n",
    "plt.ylabel('Actual')\n",
    "plt.show()"
   ]
  },
  {
   "cell_type": "code",
   "execution_count": null,
   "id": "3609008b",
   "metadata": {},
   "outputs": [],
   "source": [
    "# calculate the confustion matrix\n",
    "from sklearn.metrics import confusion_matrix\n",
    "cm = confusion_matrix(y_test, y_pred)\n",
    "true_positive = cm[1, 1]\n",
    "true_negative = cm[0, 0]\n",
    "false_positive = cm[0, 1]\n",
    "false_negative = cm[1, 0]\n",
    "accuracy = (true_positive + true_negative) / (true_positive + true_negative + false_positive + false_negative)\n",
    "precision = true_positive / (true_positive + false_positive)\n",
    "recall = true_positive / (true_positive + false_negative)\n",
    "f1_score = 2 * (precision * recall) / (precision + recall)\n",
    "print(\"Accuracy: \", accuracy)\n",
    "print(\"Precision: \", precision)\n",
    "print(\"Recall: \", recall)\n",
    "print(\"F1 Score: \", f1_score)"
   ]
  },
  {
   "cell_type": "markdown",
   "id": "2e10dcd8",
   "metadata": {},
   "source": [
    "# Decision Tree Classifier"
   ]
  },
  {
   "cell_type": "code",
   "execution_count": null,
   "id": "6bf062e8",
   "metadata": {},
   "outputs": [],
   "source": [
    "from sklearn.tree import DecisionTreeClassifier, DecisionTreeRegressor\n",
    "dt = DecisionTreeClassifier()\n",
    "dt.fit(x_train, y_train)\n",
    "y_pred = dt.predict(x_test)"
   ]
  },
  {
   "cell_type": "code",
   "execution_count": null,
   "id": "16f6687a",
   "metadata": {},
   "outputs": [],
   "source": [
    "accuracy_score_dt = dt.score(x_test, y_test)\n",
    "print(\"Accuracy Score: \", accuracy_score_dt)\n",
    "cm_dt = classification_report(y_test, y_pred, output_dict=True)\n",
    "print(classification_report(y_test, y_pred))"
   ]
  },
  {
   "cell_type": "markdown",
   "id": "9f3ab8a4",
   "metadata": {},
   "source": [
    "# Random Forest Classifier"
   ]
  },
  {
   "cell_type": "code",
   "execution_count": null,
   "id": "57ae5b2c",
   "metadata": {},
   "outputs": [],
   "source": [
    "from sklearn.ensemble import RandomForestClassifier, RandomForestRegressor\n",
    "\n",
    "rf = RandomForestClassifier()\n",
    "rf.fit(x_train, y_train)\n",
    "y_pred = rf.predict(x_test)"
   ]
  },
  {
   "cell_type": "code",
   "execution_count": null,
   "id": "41297dcb",
   "metadata": {},
   "outputs": [],
   "source": [
    "accuracy_score_rf = rf.score(x_test, y_test)\n",
    "print(\"Accuracy Score: \", accuracy_score_rf)\n",
    "cm_rf = classification_report(y_test, y_pred, output_dict=True)\n",
    "print(classification_report(y_test, y_pred))"
   ]
  },
  {
   "cell_type": "code",
   "execution_count": null,
   "id": "ab9415e1",
   "metadata": {},
   "outputs": [],
   "source": [
    "from sklearn.ensemble import GradientBoostingClassifier, GradientBoostingRegressor\n",
    "\n",
    "\n",
    "gb = GradientBoostingClassifier()\n",
    "gb.fit(x_train, y_train)\n",
    "y_pred = gb.predict(x_test)"
   ]
  },
  {
   "cell_type": "code",
   "execution_count": null,
   "id": "b989a9b4",
   "metadata": {},
   "outputs": [],
   "source": [
    "accuracy_score_gb = gb.score(x_test, y_test)\n",
    "print(\"Accuracy Score: \", accuracy_score_gb)\n",
    "cm_gb = classification_report(y_test, y_pred, output_dict=True)\n",
    "print(classification_report(y_test, y_pred))"
   ]
  },
  {
   "cell_type": "code",
   "execution_count": null,
   "id": "1728670a",
   "metadata": {},
   "outputs": [],
   "source": [
    "from xgboost import XGBRegressor, XGBClassifier\n",
    "\n",
    "\n",
    "xgb = XGBClassifier()\n",
    "xgb.fit(x_train, y_train)\n",
    "y_pred = xgb.predict(x_test)"
   ]
  },
  {
   "cell_type": "code",
   "execution_count": null,
   "id": "f780d4e3",
   "metadata": {},
   "outputs": [],
   "source": [
    "accuracy_score_xgb = xgb.score(x_test, y_test)\n",
    "print(\"Accuracy Score: \", accuracy_score_xgb)\n",
    "cm_xgb = classification_report(y_test, y_pred, output_dict=True)\n",
    "print(classification_report(y_test, y_pred))"
   ]
  },
  {
   "cell_type": "code",
   "execution_count": null,
   "id": "2abc1ceb",
   "metadata": {},
   "outputs": [],
   "source": [
    "from lightgbm import LGBMRegressor, LGBMClassifier\n",
    "\n",
    "\n",
    "lgb = LGBMClassifier()\n",
    "lgb.fit(x_train, y_train)\n",
    "y_pred = lgb.predict(x_test)"
   ]
  },
  {
   "cell_type": "code",
   "execution_count": null,
   "id": "fb626a5a",
   "metadata": {},
   "outputs": [],
   "source": [
    "accuracy_score_lgb = lgb.score(x_test, y_test)\n",
    "print(\"Accuracy Score: \", accuracy_score_lgb)\n",
    "cm_lgb = classification_report(y_test, y_pred, output_dict=True)\n",
    "print(classification_report(y_test, y_pred))"
   ]
  },
  {
   "cell_type": "code",
   "execution_count": null,
   "id": "69b0befe",
   "metadata": {},
   "outputs": [],
   "source": [
    "from sklearn.metrics import accuracy_score, classification_report, confusion_matrix\n",
    "from sklearn.metrics import mean_squared_error, mean_absolute_error, r2_score\n"
   ]
  },
  {
   "cell_type": "code",
   "execution_count": null,
   "id": "74d01850",
   "metadata": {},
   "outputs": [],
   "source": [
    "from tabulate import tabulate\n",
    " \n",
    "\n",
    "data = [\n",
    "    [\"Logistic Regression\", accuracy_score_lg, cm_lg['0']['precision'], cm_lg['0']['recall'], cm_lg['0']['f1-score']],\n",
    "    [\"Decision Tree Classifier\", accuracy_score_dt, cm_dt['0']['precision'], cm_dt['0']['recall'], cm_dt['0']['f1-score']],\n",
    "    [\"Random Forest Classifier\", accuracy_score_rf, cm_rf['0']['precision'], cm_rf['0']['recall'], cm_rf['0']['f1-score']],\n",
    "    [\"Gradient Boosting Classifier\", accuracy_score_gb, cm_gb['0']['precision'], cm_gb['0']['recall'], cm_gb['0']['f1-score']],\n",
    "    [\"XGBoost Classifier\", accuracy_score_xgb, cm_xgb['0']['precision'], cm_xgb['0']['recall'], cm_xgb['0']['f1-score']],\n",
    "    [\"LightGBM Classifier\", accuracy_score_lgb, cm_lgb['0']['precision'], cm_lgb['0']['recall'], cm_lgb['0']['f1-score']],\n",
    "]\n",
    "\n",
    "\n",
    "headers = ['Model', 'accuracy score', 'Precision', 'Recall', 'F1-Score']\n",
    "print(tabulate(data, headers=headers, tablefmt='grid')) "
   ]
  },
  {
   "cell_type": "markdown",
   "id": "ef5163ee",
   "metadata": {},
   "source": [
    "# Hyperparameter tuning - GridSearch"
   ]
  },
  {
   "cell_type": "code",
   "execution_count": null,
   "id": "3660274e",
   "metadata": {},
   "outputs": [],
   "source": [
    "from sklearn.model_selection import GridSearchCV, RandomizedSearchCV\n",
    "\n",
    "\n",
    "param_grid={\n",
    "    'max_depth':[3,5,12,None],\n",
    "    'min_samples_split':[2,5,10],\n",
    "    'min_samples_leaf':[1,2,5],\n",
    "    'max_features':['auto','sqrt','log','None']\n",
    "\n",
    "}\n",
    "\n",
    "grid_search = GridSearchCV(estimator=dt, param_grid=param_grid, # estimator is the model to be tuned\n",
    "                           verbose=1, # show the progress of the grid search\n",
    "                           n_jobs=-1, # use all processors\n",
    "                           cv=5, # number of cross-validation folds\n",
    "                           scoring='accuracy') # scoring metric to be used\n",
    "                          \n",
    "                          \n",
    "grid_search.fit(x_train, y_train) # fit the grid search to the training data\n",
    "\n"
   ]
  },
  {
   "cell_type": "code",
   "execution_count": null,
   "id": "addd0681",
   "metadata": {},
   "outputs": [],
   "source": [
    "best_model_dt = grid_search.best_estimator_ # get the best model from the grid search\n",
    "y_pred=best_model_dt.predict(x_test) # predict the test data using the best model\n",
    "accuracy_score_dt = best_model_dt.score(x_test, y_test)\n",
    "print(\"Accuracy Score: \", accuracy_score_dt)\n"
   ]
  },
  {
   "cell_type": "markdown",
   "id": "32a0142d",
   "metadata": {},
   "source": [
    "# Randomized Search"
   ]
  },
  {
   "cell_type": "code",
   "execution_count": null,
   "id": "0c6f7160",
   "metadata": {},
   "outputs": [],
   "source": [
    "random_search = RandomizedSearchCV(\n",
    "    estimator=dt,\n",
    "    param_distributions=param_grid,\n",
    "    n_iter=10, # number of iterations\n",
    "    verbose=1,\n",
    "    cv=5,\n",
    "    n_jobs=-1,\n",
    "    random_state=42,\n",
    ")\n",
    "random_search.fit(x_train, y_train) # fit the random search to the training data"
   ]
  },
  {
   "cell_type": "code",
   "execution_count": null,
   "id": "cbde7977",
   "metadata": {},
   "outputs": [],
   "source": [
    "random_model_dt = random_search.best_estimator_ # get the best model from the random search\n",
    "y_pred=random_model_dt.predict(x_test) # predict the test data using the best model\n",
    "accuracy_score_dt = random_model_dt.score(x_test, y_test)\n",
    "print(\"Accuracy Score: \", accuracy_score_dt)\n"
   ]
  },
  {
   "cell_type": "markdown",
   "id": "0a645685",
   "metadata": {},
   "source": [
    "# Dictionary"
   ]
  },
  {
   "cell_type": "code",
   "execution_count": null,
   "id": "0b880497",
   "metadata": {},
   "outputs": [],
   "source": [
    "students = {\n",
    "  'Khusniddin': 19,\n",
    "  '023': 20,\n",
    "  'Maftuna': 18,\n",
    "  'Abu': 20\n",
    "}\n",
    "students['Qutbiddin'] = 17\n",
    "students['Maftuna'] = 19\n",
    "print(students)\n"
   ]
  },
  {
   "cell_type": "code",
   "execution_count": null,
   "id": "ecbe15c0",
   "metadata": {},
   "outputs": [],
   "source": [
    "students.get('023', 0)# get the value of the key 'Khusniddin' if it exists, otherwise return 0"
   ]
  },
  {
   "cell_type": "code",
   "execution_count": null,
   "id": "767e2927",
   "metadata": {},
   "outputs": [],
   "source": [
    "# creating a function that counts how mant times a word appears in a sentence and stores it in a dictionary\n",
    "\n",
    "def word_count(sentence):\n",
    "  words = sentence.split()\n",
    "\n",
    "  word_counts = {}\n",
    "  for word in words:\n",
    "    if word in word_counts:\n",
    "      word_counts[word] += 1\n",
    "    else:\n",
    "        word_counts[word] = 1\n",
    "      # word_counts[word] = word_counts.get(word, 0) + 1\n",
    "  return word_counts\n",
    "\n",
    "sentence = '023 Qutbiddin 023 Maftuna 023 Khusniddin 023 Qutbiddin Khusniddin Saidabror'\n",
    "result = word_count(sentence)\n",
    "print(result)\n"
   ]
  },
  {
   "cell_type": "code",
   "execution_count": null,
   "id": "5e3d28f9",
   "metadata": {},
   "outputs": [],
   "source": [
    "# get the value of the key '023' if it exists, otherwise return 0\n",
    "\n",
    "students.get('023', 0)"
   ]
  },
  {
   "cell_type": "code",
   "execution_count": null,
   "id": "91f00509",
   "metadata": {},
   "outputs": [],
   "source": [
    "# create a function that swaps the keys and values of a dictionary\n",
    "\n",
    "original = {1:'a', 2:'b', 3: 'c'}\n",
    "def swap(x):\n",
    "  y = {value: key for key, value in x.items()}\n",
    "  return y\n",
    "swap(original)"
   ]
  },
  {
   "cell_type": "code",
   "execution_count": null,
   "id": "9fbe40f9",
   "metadata": {},
   "outputs": [],
   "source": [
    "# creating a function that swaps the keys with values only if the values are strings\n",
    "\n",
    "def swapp(x):\n",
    "  y = {value: key for key, value in x.items() if isinstance(value, str)}\n",
    "  return y\n",
    "data = {1: 'apple', 2: 'banana', 3: 100, 4: 'cherry', 5: 200}\n",
    "swapp(data)"
   ]
  },
  {
   "cell_type": "markdown",
   "id": "8d7b97fe",
   "metadata": {},
   "source": [
    "# List"
   ]
  },
  {
   "cell_type": "code",
   "execution_count": null,
   "id": "35a55320",
   "metadata": {},
   "outputs": [],
   "source": [
    "a=[1,2.4,'Hello','True']\n",
    "type(a)"
   ]
  },
  {
   "cell_type": "code",
   "execution_count": null,
   "id": "049f9511",
   "metadata": {},
   "outputs": [],
   "source": [
    "# adding to the list from the end\n",
    "a.append('japan')\n",
    "\n",
    "\n",
    "# removing from the list\n",
    "a.remove('True')\n",
    "\n",
    "# removing from the list by index\n",
    "a.pop(2)\n",
    "\n",
    "# length of the list\n",
    "len(a)\n",
    "\n",
    "# sorting the list\n",
    "# a.sort()\n",
    "\n",
    "\n",
    "# sorting the list in reverse order\n",
    "# a.sort(reverse=True)\n",
    "\n",
    "# inserting into the list\n",
    "a.insert(2, 'Python')\n",
    "\n",
    "# reversing the list\n",
    "a.reverse()\n",
    "\n",
    "# slicing the list\n",
    "a[1:3] # returns [2.4, 'Python']\n",
    "a[1:] # returns [2.4, 'Python', 'Hello', 'japan']\n",
    "a[:3] # returns [1, 2.4, 'Python']\n",
    "a[::2] # returns [1, 'Python', 'japan']\n",
    "a[::-1] # returns ['japan', 'Hello', 'Python', 2.4, 1]\n",
    "\n",
    "print(a)\n"
   ]
  },
  {
   "cell_type": "markdown",
   "id": "51fa7269",
   "metadata": {},
   "source": [
    "# Tuple"
   ]
  },
  {
   "cell_type": "code",
   "execution_count": null,
   "id": "17e2e532",
   "metadata": {},
   "outputs": [],
   "source": [
    "# creating a tuple\n",
    "fruits = ('apple', 'banana','cherry')\n",
    "print(fruits)\n",
    "type(fruits)"
   ]
  },
  {
   "cell_type": "code",
   "execution_count": null,
   "id": "b8ccae49",
   "metadata": {},
   "outputs": [],
   "source": [
    "# concatenating two tuples\n",
    "vegetables = ('cabbage', 'tomato', 'potato')\n",
    "food = fruits + vegetables\n",
    "print(food)\n"
   ]
  },
  {
   "cell_type": "code",
   "execution_count": null,
   "id": "7b9085e5",
   "metadata": {},
   "outputs": [],
   "source": [
    "# unpacking a tuple\n",
    "for item in food:\n",
    "    print(item)\n",
    " "
   ]
  },
  {
   "cell_type": "code",
   "execution_count": null,
   "id": "86924a0d",
   "metadata": {},
   "outputs": [],
   "source": [
    "# adding to the tuple\n",
    "fruits = fruits + ('orange',)\n",
    "\n",
    "fruits_list = list(fruits)\n",
    "fruits_list.append('strawberry')\n",
    "fruits = tuple(fruits_list)\n",
    "fruits"
   ]
  },
  {
   "cell_type": "code",
   "execution_count": null,
   "id": "96337897",
   "metadata": {},
   "outputs": [],
   "source": [
    "# removing from the tuple\n",
    "list_fruits = list(fruits)\n",
    "list_fruits.remove('orange')\n",
    "\n",
    "# removing from the tuple by index\n",
    "list_fruits.pop(2)\n",
    "fruits = tuple(list_fruits)\n",
    "print(fruits)"
   ]
  },
  {
   "cell_type": "code",
   "execution_count": null,
   "id": "383c7b14",
   "metadata": {},
   "outputs": [],
   "source": [
    "\n",
    "# finding the index in tuples\n",
    "fruits = ('apple', 'banana', 'cherry', 'orange', 'strawberry')\n",
    "if 'strawberry' in fruits:\n",
    "  print(fruits.index('strawberry'))\n",
    "else:\n",
    "  print('The element is not found.')"
   ]
  },
  {
   "cell_type": "code",
   "execution_count": null,
   "id": "d3449f4b",
   "metadata": {},
   "outputs": [],
   "source": [
    "# tuple of tuples\n",
    "# printing the name of the second student\n",
    "students = ((\"Alice\", 20), (\"Bob\", 22), (\"Charlie\", 21))\n",
    "students[1][0]"
   ]
  }
 ],
 "metadata": {
  "kernelspec": {
   "display_name": "Python 3",
   "language": "python",
   "name": "python3"
  },
  "language_info": {
   "codemirror_mode": {
    "name": "ipython",
    "version": 3
   },
   "file_extension": ".py",
   "mimetype": "text/x-python",
   "name": "python",
   "nbconvert_exporter": "python",
   "pygments_lexer": "ipython3",
   "version": "3.9.6"
  }
 },
 "nbformat": 4,
 "nbformat_minor": 5
}
